{
 "cells": [
  {
   "cell_type": "code",
   "execution_count": 3,
   "metadata": {},
   "outputs": [
    {
     "name": "stdout",
     "output_type": "stream",
     "text": [
      "je bent nu ingeschreven voorOOP in python\n",
      "hasan is de naam\n"
     ]
    }
   ],
   "source": [
    "class student:\n",
    "    #new\n",
    "    def __init__(self, studentnumber, name):\n",
    "        self.studentnumber = studentnumber\n",
    "        self.name = name\n",
    "\n",
    "\n",
    "\n",
    "    def __str__(self):\n",
    "        return f'{self.name} is de naam'\n",
    "    \n",
    "    def schrijfIn(self, cursnaam):\n",
    "        print(\"je bent nu ingeschreven voor\" + cursnaam)\n",
    "    \n",
    "        \n",
    "hasan = student(1234, 'hasan')\n",
    "hasan.schrijfIn('OOP in python')\n",
    "print(hasan)\n"
   ]
  },
  {
   "cell_type": "code",
   "execution_count": null,
   "metadata": {},
   "outputs": [],
   "source": []
  }
 ],
 "metadata": {
  "kernelspec": {
   "display_name": "Python 3",
   "language": "python",
   "name": "python3"
  },
  "language_info": {
   "codemirror_mode": {
    "name": "ipython",
    "version": 3
   },
   "file_extension": ".py",
   "mimetype": "text/x-python",
   "name": "python",
   "nbconvert_exporter": "python",
   "pygments_lexer": "ipython3",
   "version": "3.11.9"
  }
 },
 "nbformat": 4,
 "nbformat_minor": 2
}
